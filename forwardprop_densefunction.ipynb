{
  "nbformat": 4,
  "nbformat_minor": 0,
  "metadata": {
    "colab": {
      "provenance": [],
      "authorship_tag": "ABX9TyPkQYGaaW+giFXagY9N6CUV",
      "include_colab_link": true
    },
    "kernelspec": {
      "name": "python3",
      "display_name": "Python 3"
    },
    "language_info": {
      "name": "python"
    }
  },
  "cells": [
    {
      "cell_type": "markdown",
      "metadata": {
        "id": "view-in-github",
        "colab_type": "text"
      },
      "source": [
        "<a href=\"https://colab.research.google.com/github/tayfunai/MachineLearningSpecializationCoursefromCoursera/blob/main/forwardprop_densefunction.ipynb\" target=\"_parent\"><img src=\"https://colab.research.google.com/assets/colab-badge.svg\" alt=\"Open In Colab\"/></a>"
      ]
    },
    {
      "cell_type": "code",
      "execution_count": null,
      "metadata": {
        "id": "T-YMFSYZUvl-"
      },
      "outputs": [],
      "source": [
        "import numpy as np\n",
        "import math\n",
        "\n",
        "def sigmoid(z):\n",
        "  return pow(1+math.exp(-z), -1)\n",
        "\n",
        "def dense(a_in, W, b):\n",
        "  units = W.shape(1)\n",
        "  a_out = np.zeros(units)\n",
        "  for j  in range(units):\n",
        "   w = W[:, j]\n",
        "   z = np.dot(w, a_in) + b[j]\n",
        "   a_out[j] = sigmoid(z)\n",
        "  return a_out\n",
        "\n",
        "def sequential(x):\n",
        "  a1 = dense(x, W1, b1)\n",
        "  a2 = dense(a1,W2,b2)\n",
        "  a3 = dense(a2,W3,b3)\n",
        "  a4 = dense(a3,W4,b4)\n",
        "  f_x = a4\n",
        "  return f_x\n",
        "W = np.array([\n",
        "    [1, -3, 5],\n",
        "    [2, 4, -6]\n",
        "])\n",
        "\n",
        "b = np.array([-1,1, 2])\n",
        "\n",
        "a_in = np.array([-2,4])"
      ]
    }
  ]
}