{
  "nbformat": 4,
  "nbformat_minor": 0,
  "metadata": {
    "colab": {
      "provenance": [],
      "authorship_tag": "ABX9TyNhyo8QtDQWyxE9Yj6W+gr6",
      "include_colab_link": true
    },
    "kernelspec": {
      "name": "python3",
      "display_name": "Python 3"
    },
    "language_info": {
      "name": "python"
    }
  },
  "cells": [
    {
      "cell_type": "markdown",
      "metadata": {
        "id": "view-in-github",
        "colab_type": "text"
      },
      "source": [
        "<a href=\"https://colab.research.google.com/github/tayfunai/MachineLearningSpecializationCoursefromCoursera/blob/main/forwardprop_hardcoded.ipynb\" target=\"_parent\"><img src=\"https://colab.research.google.com/assets/colab-badge.svg\" alt=\"Open In Colab\"/></a>"
      ]
    },
    {
      "cell_type": "code",
      "execution_count": 7,
      "metadata": {
        "colab": {
          "base_uri": "https://localhost:8080/"
        },
        "id": "DrFplmoSQtNk",
        "outputId": "b5c3896d-e89b-44d5-d104-391ca566fa3a"
      },
      "outputs": [
        {
          "output_type": "stream",
          "name": "stdout",
          "text": [
            "0.9933071490757153\n"
          ]
        }
      ],
      "source": [
        "import numpy as np\n",
        "import math\n",
        "\n",
        "x = np.array([200,17])\n",
        "\n",
        "def sigmoid(z):\n",
        "  return pow(1+math.exp(-z), -1)\n",
        "\n",
        "\n",
        "\n",
        "\n",
        "w1_1 = np.array([1,2])\n",
        "b1_1 = np.array([-1])\n",
        "z1_1 = np.dot(w1_1, x) + b1_1\n",
        "a1_1 = sigmoid(z1_1)\n",
        "\n",
        "w1_2 = np.array([-3,4])\n",
        "b1_2 = np.array([1])\n",
        "z1_2 = np.dot(w1_2, x) + b1_2\n",
        "a1_2 = sigmoid(z1_2)\n",
        "\n",
        "w1_3 = np.array([5,-6])\n",
        "b1_3 = np.array([2])\n",
        "z1_3 = np.dot(w1_3, x) + b1_3\n",
        "a1_3 = sigmoid(z1_3)\n",
        "\n",
        "a1 = np.array([a1_1, a1_2, a1_3])\n",
        "\n",
        "w2_1 = np.array([-7,8,9])\n",
        "b2_1 = np.array([3])\n",
        "z2_1 = np.dot(w2_1, a1) + b2_1\n",
        "a2 = sigmoid(z2_1)\n",
        "\n",
        "print(a2)\n",
        "\n"
      ]
    }
  ]
}